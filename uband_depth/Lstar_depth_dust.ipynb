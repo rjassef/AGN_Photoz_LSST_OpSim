{
 "cells": [
  {
   "cell_type": "code",
   "execution_count": null,
   "metadata": {},
   "outputs": [],
   "source": [
    "import numpy as np"
   ]
  },
  {
   "cell_type": "markdown",
   "metadata": {},
   "source": [
    "Description\n",
    "===========\n",
    "\n",
    "In this notebook the idea will be to estimate the depth to which we can find the Lyman break in type 1 AGN as a function of L/L* at z=2.5 . For this, we will need to know the depth in u-band and see what luminosity this corresponds to. Then, we can determine the same for the g-band 5 sigma depth so that we can see how much we are missing."
   ]
  },
  {
   "cell_type": "code",
   "execution_count": null,
   "metadata": {},
   "outputs": [],
   "source": [
    "import lsst.sims.maf.db as db\n",
    "import lsst.sims.maf.metrics as metrics\n",
    "import lsst.sims.maf.slicers as slicers\n",
    "import lsst.sims.maf.stackers as stackers\n",
    "import lsst.sims.maf.plots as plots\n",
    "import lsst.sims.maf.metricBundles as metricBundles\n",
    "from lsst.sims.maf.metrics import BaseMetric\n",
    "\n",
    "import os\n",
    "import sys\n",
    "sys.path.append(\"../../LSST_OpSim/Scripts_NBs/\")\n",
    "from opsimUtils import *"
   ]
  },
  {
   "cell_type": "markdown",
   "metadata": {},
   "source": [
    "### Step 1\n",
    "\n",
    "The first step will be to run all the metrics to get the ExgalM5 depths. We will do this for both the *u* and *g* bands. We will base this on a slight modification of the DESC ExgalM5_with_cuts metric of DESC (https://github.com/lsst/sims_maf/blob/master/python/lsst/sims/maf/metrics/weakLensingSystematicsMetric.py)."
   ]
  },
  {
   "cell_type": "code",
   "execution_count": null,
   "metadata": {},
   "outputs": [],
   "source": [
    "from ExgalM5_with_cuts_AGN import ExgalM5_with_cuts_AGN"
   ]
  },
  {
   "cell_type": "code",
   "execution_count": null,
   "metadata": {},
   "outputs": [],
   "source": [
    "#We will use the same slicer for both bands. We use nside=128 to match the nside of the extinction map.\n",
    "#A warning, otherwise, pops out. Seems harmless, but better use nsider=128 to be safe. Also, we add \n",
    "#useCache=False again to deal with another warning.\n",
    "slicer_ug = slicers.HealpixSlicer(nside=128, useCache=False)"
   ]
  },
  {
   "cell_type": "code",
   "execution_count": null,
   "metadata": {},
   "outputs": [],
   "source": [
    "#Set up the MAF for u-band, 5sigma depth.\n",
    "metric_u = ExgalM5_with_cuts_AGN(metricName='ExgalM5_with_cuts_AGN_u')\n",
    "\n",
    "# constraint = the sql query (or 'select') that selects all visits in r band\n",
    "constraint_u = 'filter = \"u\"'\n",
    "constraint_u += ' and note not like \"DD%\"' # added so the sky plot won't saturate (remove DDFs)\n",
    "\n",
    "EM5u = metricBundles.MetricBundle(metric_u, slicer_ug, constraint_u)"
   ]
  },
  {
   "cell_type": "code",
   "execution_count": null,
   "metadata": {},
   "outputs": [],
   "source": [
    "#Set up the MAF for g-band, 5sigma depth.\n",
    "metric_g = ExgalM5_with_cuts_AGN(metricName='ExgalM5_with_cuts_AGN_g')\n",
    "\n",
    "# constraint = the sql query (or 'select') that selects all visits in r band\n",
    "constraint_g = 'filter = \"g\"'\n",
    "constraint_g += ' and note not like \"DD%\"' # added so the sky plot won't saturate (remove DDFs)\n",
    "\n",
    "EM5g = metricBundles.MetricBundle(metric_g, slicer_ug, constraint_g)"
   ]
  },
  {
   "cell_type": "code",
   "execution_count": null,
   "metadata": {},
   "outputs": [],
   "source": [
    "bundleDict = {'EM5u': EM5u, 'EM5g': EM5g}"
   ]
  },
  {
   "cell_type": "markdown",
   "metadata": {},
   "source": [
    "##### Run for FBS 1.5"
   ]
  },
  {
   "cell_type": "code",
   "execution_count": null,
   "metadata": {},
   "outputs": [],
   "source": [
    "your_username = \"rjassef\"\n",
    "folder_mafoutput = \"EM5_depths\""
   ]
  },
  {
   "cell_type": "code",
   "execution_count": null,
   "metadata": {},
   "outputs": [],
   "source": [
    "FBS_version = \"1.5\"\n",
    "dbDir = '/home/idies/workspace/lsst_cadence/FBS_{}/'.format(FBS_version)\n",
    "outDir = '/home/idies/workspace/Storage/{0}/persistent/MAFOutput/{1}'.format(your_username,folder_mafoutput)\n",
    "\n",
    "if not os.path.exists(os.path.abspath(outDir)):\n",
    "    os.mkdir(os.path.abspath(outDir))"
   ]
  },
  {
   "cell_type": "code",
   "execution_count": null,
   "metadata": {},
   "outputs": [],
   "source": [
    "opSimDbs, resultDbs = connect_dbs(dbDir, outDir)"
   ]
  },
  {
   "cell_type": "code",
   "execution_count": null,
   "metadata": {},
   "outputs": [],
   "source": [
    "metricDataPath = '/home/idies/workspace/Storage/{0}/persistent/MAFOutput/{1}/MetricData/'.format(\n",
    "    your_username, folder_mafoutput)\n",
    "dbRuns = show_opsims(dbDir)\n",
    "for run in dbRuns:\n",
    "    EM5u.setRunName(run)\n",
    "    EM5g.setRunName(run)\n",
    "    metricGroup = metricBundles.MetricBundleGroup(bundleDict,\\\n",
    "                    opSimDbs[run], metricDataPath, resultDbs[run])\n",
    "    metricGroup.runAll()"
   ]
  },
  {
   "cell_type": "markdown",
   "metadata": {},
   "source": [
    "##### Run for FBS 1.6"
   ]
  },
  {
   "cell_type": "code",
   "execution_count": null,
   "metadata": {},
   "outputs": [],
   "source": [
    "FBS_version = \"1.6\"\n",
    "dbDir = '/home/idies/workspace/lsst_cadence/FBS_{}/'.format(FBS_version)\n",
    "outDir = '/home/idies/workspace/Storage/{0}/persistent/MAFOutput/{1}'.format(your_username,folder_mafoutput)\n",
    "\n",
    "if not os.path.exists(os.path.abspath(outDir)):\n",
    "    os.mkdir(os.path.abspath(outDir))"
   ]
  },
  {
   "cell_type": "code",
   "execution_count": null,
   "metadata": {},
   "outputs": [],
   "source": [
    "opSimDbs, resultDbs = connect_dbs(dbDir, outDir)"
   ]
  },
  {
   "cell_type": "code",
   "execution_count": null,
   "metadata": {},
   "outputs": [],
   "source": [
    "metricDataPath = '/home/idies/workspace/Storage/{0}/persistent/MAFOutput/{1}/MetricData/'.format(\n",
    "    your_username, folder_mafoutput)\n",
    "dbRuns = show_opsims(dbDir)\n",
    "for run in dbRuns:\n",
    "    EM5u.setRunName(run)\n",
    "    EM5g.setRunName(run)\n",
    "    metricGroup = metricBundles.MetricBundleGroup(bundleDict,\\\n",
    "                    opSimDbs[run], metricDataPath, resultDbs[run])\n",
    "    metricGroup.runAll()"
   ]
  },
  {
   "cell_type": "markdown",
   "metadata": {},
   "source": [
    "### Step 1\n",
    "\n",
    "Estimate the u and g magnitude of an Lstar quasar at z=2.5. We do this by using the Shen et al. (2020) luminosity function to calculate Lbol_star at z=2.5. We then use the conversion from Lbol to L1450 provided by Shen et al. (2020). Finally, we take a quasar template, redshift it to z=2.5, normalize it to L1450 (calculated using a redshifted tophat template as described in Shen et al.) and calcute its magnitudes in the SDSS u and g bands. There are two options of templatates so far:\n",
    "\n",
    "* vanden Berk et al. (2001) - All the manipulation of the vanden Berk et al. template is done using pysynphot, which is not available in SciServer. \n",
    "\n",
    "* Assef et al. (2010) - All manipulation is done with LRT, which I have not installed in my SciServer workspace (might actually not be possible).\n",
    "\n",
    "We assume a Planck13 astropy cosmology in either case. The pre-computed magnitude-redshift tables are found in the folder ../mstar_estimates. "
   ]
  },
  {
   "cell_type": "code",
   "execution_count": null,
   "metadata": {},
   "outputs": [],
   "source": [
    "#vanden Berk et al. (2001)\n",
    "data = np.loadtxt(\"../mstar_estimates/mstar_z.vandenberk.dat\")\n",
    "\n",
    "#Assef et al. (2010)\n",
    "#data = np.loadtxt(\"../mstar_estimates/mstar_z.lrt.dat\")\n",
    "\n",
    "mstar = dict()\n",
    "filters = ['u','g','r','i','z','y']\n",
    "for k, filter in enumerate(filters):\n",
    "    mstar[filter] = np.interp([2.5], data[:,0], data[:,k+1])[0]\n",
    "    print(\"{0:s} {1:7.3f}\".format(filter, mstar[filter]))"
   ]
  },
  {
   "cell_type": "markdown",
   "metadata": {},
   "source": [
    "### Step 2\n",
    "\n",
    "To detect the Lyman break, we will need to have a color u-g that has an uncertainty of less that ~0.33 mag (so a 3 sigma detection). Assuming that g is always going to be much deeper than u, then the uncertainty will be dominated by u. In that sense, we want to determine the fraction of L* for which a 3 sigma u-band detection gets us, and the fraction of L* to which the 5 sigma g depth gets us.\n",
    "\n",
    "We can only get the 5 sigma depth as far as I can see with a metric, so we will simply assume that for a given 5 sigma depth, m5, the corresponding 3 sigma depth will be \n",
    "\n",
    "m3 = m5 + 2.5 log10(5/3)\n",
    "\n",
    "With that in mind, we will create a metric that determines L/L* for a 5 sigma depth, to be used for g band, and one that determines L/L* for a 3 sigma depth, to be used for u band. \n",
    "\n",
    "To create the metrics I started from the Coaddm5Metric shown in https://github.com/LSST-nonproject/sims_maf_contrib/blob/0c4c7f9f1fc112c4d91e372ae338b29b054468a4/tutorials/Writing%20A%20New%20Metric.ipynb and the ExgalM5_with_cuts metric from DESC available at https://github.com/lsst/sims_maf/blob/master/python/lsst/sims/maf/metrics/weakLensingSystematicsMetric.py."
   ]
  },
  {
   "cell_type": "code",
   "execution_count": null,
   "metadata": {},
   "outputs": [],
   "source": [
    "class log_QLF_Lstar_frac(BaseMetric):\n",
    "    \n",
    "    def __init__(self, mstar, m5Col='fiveSigmaDepth', sigma_det=5.0, extinction_cut=1.0, \\\n",
    "                 metricName='log_QLF_Lstar_frac', **kwargs):\n",
    "        \n",
    "        #Apparent magnitude of an Lstar quasar. Has to be externally provided,\n",
    "        #as my calculation involves pysynphot, which is not available in SciServer.\n",
    "        self.mstar = mstar\n",
    "        \n",
    "        #Dust Extinction limit to which consider regions. If left unconstrained,\n",
    "        #it ends up finding extremely shallow (m_lim=100) 5 sigma regions. Not\n",
    "        #sure why though, but this is something also enforced in the ExgalM5_with_cuts\n",
    "        #metric of DESC.\n",
    "        self.extinction_cut = extinction_cut\n",
    "        \n",
    "        #dm is the difference between the 5 sigma detection and the requested sigma_det.\n",
    "        self.dm = 2.5*np.log10(5.0/sigma_det)\n",
    "        \n",
    "        #This calculation is reliant on the ExgalM5 metric. So declare that here.\n",
    "        self.exgalM5 = metrics.ExgalM5()\n",
    "        \n",
    "        #Initiate the metric.\n",
    "        super(log_QLF_Lstar_frac, self).__init__(\n",
    "            col=m5Col, metricName=metricName, maps=self.exgalM5.maps, **kwargs)\n",
    "        \n",
    "    def run(self, dataSlice, slicePoint=None):\n",
    "        # exclude areas with high extinction\n",
    "        if slicePoint['ebv'] > self.extinction_cut:\n",
    "            return self.badval\n",
    "        \n",
    "        mlim5 = self.exgalM5.run(dataSlice, slicePoint)\n",
    "        mlim  = mlim5 + self.dm\n",
    "        return -0.4*(mlim-self.mstar)"
   ]
  },
  {
   "cell_type": "code",
   "execution_count": null,
   "metadata": {},
   "outputs": [],
   "source": [
    "#We will use the same slicer for both bands.\n",
    "slicer_ug = slicers.HealpixSlicer(nside=64)"
   ]
  },
  {
   "cell_type": "code",
   "execution_count": null,
   "metadata": {},
   "outputs": [],
   "source": [
    "#Set up the MAF for u-band, 3sigma depth.\n",
    "metric_u = log_QLF_Lstar_frac(mstar_u, sigma_det=3.0) #logLstarfracCoaddm3_dustMetric(mstar_u)\n",
    "\n",
    "# constraint = the sql query (or 'select') that selects all visits in r band\n",
    "constraint_u = 'filter = \"u\"'\n",
    "constraint_u += ' and note not like \"DD%\"' # added so the sky plot won't saturate (remove DDFs)\n",
    "\n",
    "logLstarfrac_u = metricBundles.MetricBundle(metric_u, slicer_ug, constraint_u)"
   ]
  },
  {
   "cell_type": "code",
   "execution_count": null,
   "metadata": {},
   "outputs": [],
   "source": [
    "#Set up the MAF for u-band, 3sigma depth.\n",
    "metric_g = log_QLF_Lstar_frac(mstar_g, sigma_det=5.0) #logLstarfracCoaddm5_dustMetric(mstar_g)\n",
    "constraint_g = 'filter = \"g\"'\n",
    "constraint_g += ' and note not like \"DD%\"' # added so the sky plot won't saturate (remove DDFs)\n",
    "logLstarfrac_g = metricBundles.MetricBundle(metric_g, slicer_ug, constraint_g)"
   ]
  },
  {
   "cell_type": "code",
   "execution_count": null,
   "metadata": {},
   "outputs": [],
   "source": [
    "bundleDict = {'logLstarfrac_u': logLstarfrac_u, 'logLstarfrac_g': logLstarfrac_g}"
   ]
  },
  {
   "cell_type": "markdown",
   "metadata": {},
   "source": [
    "### Step 3\n",
    "\n",
    "Setup the environment to run the metrics on many opsims. For this, we follow the [Multiple_Opsims.ipynb](./Scripts_NBs/Multiple_Opsims.ipynb) example from Gordon's group. "
   ]
  },
  {
   "cell_type": "code",
   "execution_count": null,
   "metadata": {},
   "outputs": [],
   "source": [
    "import os\n",
    "from Scripts_NBs.opsimUtils import *"
   ]
  },
  {
   "cell_type": "code",
   "execution_count": null,
   "metadata": {},
   "outputs": [],
   "source": [
    "your_username = \"rjassef\"\n",
    "dbDir = '/home/idies/workspace/lsst_cadence/FBS_1.6/'\n",
    "outDir = '/home/idies/workspace/Storage/{}/persistent/MAFOutput/Lstar_dust'.format(your_username)\n",
    "\n",
    "if not os.path.exists(os.path.abspath(outDir)):\n",
    "    os.mkdir(os.path.abspath(outDir))"
   ]
  },
  {
   "cell_type": "code",
   "execution_count": null,
   "metadata": {},
   "outputs": [],
   "source": [
    "opSimDbs, resultDbs = connect_dbs(dbDir, outDir)"
   ]
  },
  {
   "cell_type": "markdown",
   "metadata": {},
   "source": [
    "### Step 4 \n",
    "\n",
    "Loop over the opsims running the metric on all of them. "
   ]
  },
  {
   "cell_type": "code",
   "execution_count": null,
   "metadata": {},
   "outputs": [],
   "source": [
    "metricDataPath = '/home/idies/workspace/Storage/{}/persistent/MAFOutput/Lstar_dust/MetricData/'.format(your_username)\n",
    "dbRuns = show_opsims(dbDir)\n",
    "for run in dbRuns:\n",
    "    logLstarfrac_u.setRunName(run)\n",
    "    logLstarfrac_g.setRunName(run)\n",
    "    metricGroup = metricBundles.MetricBundleGroup(bundleDict,\\\n",
    "                    opSimDbs[run], metricDataPath, resultDbs[run])\n",
    "    metricGroup.runAll()"
   ]
  },
  {
   "cell_type": "markdown",
   "metadata": {},
   "source": [
    "### Step 5\n",
    "\n",
    "Repeat for FBS v1.5"
   ]
  },
  {
   "cell_type": "code",
   "execution_count": null,
   "metadata": {},
   "outputs": [],
   "source": [
    "import os\n",
    "from Scripts_NBs.opsimUtils import *"
   ]
  },
  {
   "cell_type": "code",
   "execution_count": null,
   "metadata": {},
   "outputs": [],
   "source": [
    "your_username = \"rjassef\"\n",
    "dbDir = '/home/idies/workspace/lsst_cadence/FBS_1.5/'\n",
    "outDir = '/home/idies/workspace/Storage/{}/persistent/MAFOutput/Lstar_dust'.format(your_username)\n",
    "\n",
    "if not os.path.exists(os.path.abspath(outDir)):\n",
    "    os.mkdir(os.path.abspath(outDir))"
   ]
  },
  {
   "cell_type": "code",
   "execution_count": null,
   "metadata": {},
   "outputs": [],
   "source": [
    "opSimDbs, resultDbs = connect_dbs(dbDir, outDir)"
   ]
  },
  {
   "cell_type": "code",
   "execution_count": null,
   "metadata": {},
   "outputs": [],
   "source": [
    "metricDataPath = '/home/idies/workspace/Storage/{}/persistent/MAFOutput/Lstar_dust/MetricData/'.format(your_username)\n",
    "dbRuns = show_opsims(dbDir)\n",
    "for run in dbRuns:\n",
    "    logLstarfrac_u.setRunName(run)\n",
    "    logLstarfrac_g.setRunName(run)\n",
    "    metricGroup = metricBundles.MetricBundleGroup(bundleDict,\\\n",
    "                    opSimDbs[run], metricDataPath, resultDbs[run])\n",
    "    metricGroup.runAll()"
   ]
  },
  {
   "cell_type": "code",
   "execution_count": null,
   "metadata": {},
   "outputs": [],
   "source": []
  }
 ],
 "metadata": {
  "kernelspec": {
   "display_name": "Python 3",
   "language": "python",
   "name": "python3"
  },
  "language_info": {
   "codemirror_mode": {
    "name": "ipython",
    "version": 3
   },
   "file_extension": ".py",
   "mimetype": "text/x-python",
   "name": "python",
   "nbconvert_exporter": "python",
   "pygments_lexer": "ipython3",
   "version": "3.7.8"
  }
 },
 "nbformat": 4,
 "nbformat_minor": 4
}
