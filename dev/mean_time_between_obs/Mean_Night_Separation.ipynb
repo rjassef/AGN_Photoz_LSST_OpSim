{
 "cells": [
  {
   "cell_type": "code",
   "execution_count": null,
   "metadata": {},
   "outputs": [],
   "source": [
    "%load_ext autoreload\n",
    "%autoreload 2"
   ]
  },
  {
   "cell_type": "code",
   "execution_count": null,
   "metadata": {},
   "outputs": [],
   "source": [
    "import numpy as np"
   ]
  },
  {
   "cell_type": "markdown",
   "metadata": {},
   "source": [
    "Description\n",
    "===========\n",
    "\n",
    "This notebook estimates the average time between observations in a pair of filters. We do this specifically in successive filters, looking for every observation in filter1 the closest observation in filter2. The original version of this metric ran through seasons separately, but that is not really needed, as we do not care if the closest observation is done during the same season or not. "
   ]
  },
  {
   "cell_type": "code",
   "execution_count": null,
   "metadata": {},
   "outputs": [],
   "source": [
    "import lsst.sims.maf.db as db\n",
    "import lsst.sims.maf.metrics as metrics\n",
    "import lsst.sims.maf.slicers as slicers\n",
    "import lsst.sims.maf.stackers as stackers\n",
    "import lsst.sims.maf.plots as plots\n",
    "import lsst.sims.maf.metricBundles as metricBundles\n",
    "from lsst.sims.maf.metrics import BaseMetric\n",
    "\n",
    "import os\n",
    "import sys\n",
    "sys.path.append(\"../../LSST_OpSim/Scripts_NBs/\")\n",
    "from opsimUtils import *"
   ]
  },
  {
   "cell_type": "markdown",
   "metadata": {},
   "source": [
    "#### Setup the metrics\n"
   ]
  },
  {
   "cell_type": "code",
   "execution_count": null,
   "metadata": {},
   "outputs": [],
   "source": [
    "from MeanNightFilterSeparationMetric import MeanNightFilterSeparationMetric"
   ]
  },
  {
   "cell_type": "code",
   "execution_count": null,
   "metadata": {},
   "outputs": [],
   "source": [
    "#We will use the same slicer and constraint for each metric. Since there are no warnings about cache\n",
    "#and minimum nside, we will use 64 to go faster.\n",
    "slicer = slicers.HealpixSlicer(nside=64)\n",
    "constraint = 'note not like \"DD%\"' # added so the sky plot won't saturate (remove DDFs)"
   ]
  },
  {
   "cell_type": "code",
   "execution_count": null,
   "metadata": {},
   "outputs": [],
   "source": [
    "Mean_Night_list = list()\n",
    "filters = ['u', 'g', 'r', 'i', 'z', 'y']\n",
    "for k in range(len(filters[:-1])):\n",
    "    metric_use = MeanNightFilterSeparationMetric(filters[k], filters[k+1])\n",
    "    constraint_use = constraint + ' and (filter = \"{0:s}\" or filter = \"{1:s}\")'.format(\n",
    "        filters[k], filters[k+1])\n",
    "    Mean_Night_list.append(metricBundles.MetricBundle(metric_use, slicer, constraint_use))"
   ]
  },
  {
   "cell_type": "code",
   "execution_count": null,
   "metadata": {},
   "outputs": [],
   "source": [
    "bundleDict = dict()\n",
    "for k, Mean_Night in enumerate(Mean_Night_list):\n",
    "    dict_name = \"Mean_Night_{0:s}{1:s}\".format(filters[k], filters[k+1])\n",
    "    bundleDict[dict_name] = Mean_Night"
   ]
  },
  {
   "cell_type": "markdown",
   "metadata": {},
   "source": [
    "#### Run for FBS v1.5"
   ]
  },
  {
   "cell_type": "code",
   "execution_count": null,
   "metadata": {},
   "outputs": [],
   "source": [
    "your_username = \"rjassef\"\n",
    "folder_mafoutput = \"Mean_Night_Filter_v2\""
   ]
  },
  {
   "cell_type": "code",
   "execution_count": null,
   "metadata": {},
   "outputs": [],
   "source": [
    "FBS_version = \"1.5\"\n",
    "dbDir = '/home/idies/workspace/lsst_cadence/FBS_{}/'.format(FBS_version)\n",
    "outDir = '/home/idies/workspace/Storage/{0}/persistent/MAFOutput/{1}'.format(your_username,folder_mafoutput)\n",
    "\n",
    "if not os.path.exists(os.path.abspath(outDir)):\n",
    "    os.mkdir(os.path.abspath(outDir))"
   ]
  },
  {
   "cell_type": "code",
   "execution_count": null,
   "metadata": {},
   "outputs": [],
   "source": [
    "opSimDbs, resultDbs = connect_dbs(dbDir, outDir)"
   ]
  },
  {
   "cell_type": "code",
   "execution_count": null,
   "metadata": {},
   "outputs": [],
   "source": [
    "metricDataPath = '/home/idies/workspace/Storage/{0}/persistent/MAFOutput/{1}/MetricData/'.format(\n",
    "    your_username, folder_mafoutput)\n",
    "dbRuns = show_opsims(dbDir)\n",
    "for run in dbRuns:\n",
    "    for Mean_Night in Mean_Night_list:\n",
    "        Mean_Night.setRunName(run)\n",
    "    metricGroup = metricBundles.MetricBundleGroup(bundleDict,\\\n",
    "                    opSimDbs[run], metricDataPath, resultDbs[run])\n",
    "    metricGroup.runAll()"
   ]
  },
  {
   "cell_type": "markdown",
   "metadata": {},
   "source": [
    "#### Run for FBS v1.6"
   ]
  },
  {
   "cell_type": "code",
   "execution_count": null,
   "metadata": {},
   "outputs": [],
   "source": [
    "FBS_version = \"1.6\"\n",
    "dbDir = '/home/idies/workspace/lsst_cadence/FBS_{}/'.format(FBS_version)\n",
    "outDir = '/home/idies/workspace/Storage/{0}/persistent/MAFOutput/{1}'.format(your_username,folder_mafoutput)\n",
    "\n",
    "if not os.path.exists(os.path.abspath(outDir)):\n",
    "    os.mkdir(os.path.abspath(outDir))"
   ]
  },
  {
   "cell_type": "code",
   "execution_count": null,
   "metadata": {},
   "outputs": [],
   "source": [
    "opSimDbs, resultDbs = connect_dbs(dbDir, outDir)"
   ]
  },
  {
   "cell_type": "code",
   "execution_count": null,
   "metadata": {},
   "outputs": [],
   "source": [
    "metricDataPath = '/home/idies/workspace/Storage/{0}/persistent/MAFOutput/{1}/MetricData/'.format(\n",
    "    your_username, folder_mafoutput)\n",
    "dbRuns = show_opsims(dbDir)\n",
    "for run in dbRuns:\n",
    "    for Mean_Night in Mean_Night_list:\n",
    "        Mean_Night.setRunName(run)\n",
    "    metricGroup = metricBundles.MetricBundleGroup(bundleDict,\\\n",
    "                    opSimDbs[run], metricDataPath, resultDbs[run])\n",
    "    metricGroup.runAll()"
   ]
  }
 ],
 "metadata": {
  "kernelspec": {
   "display_name": "Python 3",
   "language": "python",
   "name": "python3"
  },
  "language_info": {
   "codemirror_mode": {
    "name": "ipython",
    "version": 3
   },
   "file_extension": ".py",
   "mimetype": "text/x-python",
   "name": "python",
   "nbconvert_exporter": "python",
   "pygments_lexer": "ipython3",
   "version": "3.7.8"
  }
 },
 "nbformat": 4,
 "nbformat_minor": 4
}
