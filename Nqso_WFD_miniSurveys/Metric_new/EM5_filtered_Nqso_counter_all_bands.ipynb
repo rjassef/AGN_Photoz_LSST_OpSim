{
 "cells": [
  {
   "cell_type": "code",
   "execution_count": null,
   "metadata": {},
   "outputs": [],
   "source": [
    "%load_ext autoreload\n",
    "%autoreload 2"
   ]
  },
  {
   "cell_type": "code",
   "execution_count": null,
   "metadata": {},
   "outputs": [],
   "source": [
    "# import matplotlib to show plots inline.\n",
    "%matplotlib inline\n",
    "import matplotlib.pyplot as plt\n",
    "import pandas as pd\n",
    "import numpy as np\n",
    "import glob\n",
    "import os\n",
    "\n",
    "import astropy.units as u\n",
    "import matplotlib as mpl\n",
    "import sys \n",
    "sys.path.append(\"../../\")\n",
    "from plot_OpSims import plot_OpSims_Nqso_hist_v2"
   ]
  },
  {
   "cell_type": "code",
   "execution_count": null,
   "metadata": {},
   "outputs": [],
   "source": [
    "# import maf python modules\n",
    "import lsst.sims.maf.db as db\n",
    "import lsst.sims.maf.metrics as metrics\n",
    "import lsst.sims.maf.slicers as slicers\n",
    "import lsst.sims.maf.stackers as stackers\n",
    "import lsst.sims.maf.plots as plots\n",
    "import lsst.sims.maf.metricBundles as metricBundles"
   ]
  },
  {
   "cell_type": "code",
   "execution_count": null,
   "metadata": {},
   "outputs": [],
   "source": [
    "# import convenience functions\n",
    "import sys \n",
    "sys.path.append(\"../../../LSST_OpSim\")\n",
    "from Scripts_NBs.opsimUtils import *"
   ]
  },
  {
   "cell_type": "markdown",
   "metadata": {},
   "source": [
    "### First, load the ExgalM5 results. "
   ]
  },
  {
   "cell_type": "code",
   "execution_count": null,
   "metadata": {},
   "outputs": [],
   "source": [
    "NSIDE=64\n",
    "your_username = \"rjassef\"\n",
    "folder_mafoutput = \"EM5_{0:d}_v2\".format(NSIDE)\n",
    "resultDbPath = '/home/idies/workspace/Temporary/{0}/scratch/MAFOutput/{1}'.format(\n",
    "    your_username, folder_mafoutput)\n",
    "metricDataPath = '/home/idies/workspace/Temporary/{0}/scratch/MAFOutput/{1}/MetricData/'.format(\n",
    "    your_username, folder_mafoutput)"
   ]
  },
  {
   "cell_type": "code",
   "execution_count": null,
   "metadata": {},
   "outputs": [],
   "source": [
    "# get a dictionary of resultDb from given directory\n",
    "resultDbs = getResultsDbs(resultDbPath)"
   ]
  },
  {
   "cell_type": "code",
   "execution_count": null,
   "metadata": {},
   "outputs": [],
   "source": [
    "# retrieve metricBundles for each opsim run and store them in a dictionary\n",
    "bundleDicts_raw = dict()\n",
    "for runName in resultDbs:\n",
    "    bundleDicts_raw[runName] = bundleDictFromDisk(resultDbs[runName], runName, metricDataPath)"
   ]
  },
  {
   "cell_type": "code",
   "execution_count": null,
   "metadata": {},
   "outputs": [],
   "source": [
    "#Rearrange the bundleDicts_raw dictionary so that the keys are always the same as for the first run.\n",
    "dbRuns = list(bundleDicts_raw.keys())\n",
    "Keys = list(bundleDicts_raw[dbRuns[0]].keys())\n",
    "bundleDicts = dict()\n",
    "for runName in dbRuns:\n",
    "    bundleDicts[runName] = dict()\n",
    "    Keys_raw = bundleDicts_raw[runName]\n",
    "    for Key in Keys:\n",
    "        for Key_raw in Keys_raw:\n",
    "            if Key[1]==Key_raw[1]:\n",
    "                bundleDicts[runName][Key] = bundleDicts_raw[runName][Key_raw]"
   ]
  },
  {
   "cell_type": "code",
   "execution_count": null,
   "metadata": {},
   "outputs": [],
   "source": [
    "# check keys\n",
    "dbRuns = list(resultDbs.keys())\n",
    "bd_keys = list(bundleDicts[dbRuns[0]].keys())\n",
    "print(bd_keys)"
   ]
  },
  {
   "cell_type": "markdown",
   "metadata": {},
   "source": [
    "### Now, load the WFD footprint results."
   ]
  },
  {
   "cell_type": "code",
   "execution_count": null,
   "metadata": {},
   "outputs": [],
   "source": [
    "WFDfp_folder_mafoutput = \"WFDfootprint_{0:d}\".format(NSIDE)\n",
    "WFDfp_resultDbPath = '/home/idies/workspace/Temporary/{0}/scratch/MAFOutput/{1}'.format(\n",
    "    your_username, WFDfp_folder_mafoutput)\n",
    "WFDfp_metricDataPath = '/home/idies/workspace/Temporary/{0}/scratch/MAFOutput/{1}/MetricData/'.format(\n",
    "    your_username, WFDfp_folder_mafoutput)"
   ]
  },
  {
   "cell_type": "code",
   "execution_count": null,
   "metadata": {},
   "outputs": [],
   "source": [
    "# get a dictionary of resultDb from given directory\n",
    "WFDfp_resultDbs = getResultsDbs(WFDfp_resultDbPath)"
   ]
  },
  {
   "cell_type": "code",
   "execution_count": null,
   "metadata": {},
   "outputs": [],
   "source": [
    "# retrieve metricBundles for each opsim run and store them in a dictionary\n",
    "WFDfp_bundleDicts = dict()\n",
    "for runName in WFDfp_resultDbs:\n",
    "    WFDfp_bundleDicts[runName] = bundleDictFromDisk(WFDfp_resultDbs[runName], runName, WFDfp_metricDataPath)"
   ]
  },
  {
   "cell_type": "code",
   "execution_count": null,
   "metadata": {},
   "outputs": [],
   "source": [
    "#Load the WFD footprint for each OpSim run as a mask. \n",
    "Key = (1, 'nvisitsLong')\n",
    "wfd_mask = dict()\n",
    "for run in WFDfp_resultDbs:\n",
    "    wfd_footprint = WFDfp_bundleDicts[run][Key].metricValues.filled(0)\n",
    "    wfd_mask[run] = np.where(wfd_footprint > 750, False, True)"
   ]
  },
  {
   "cell_type": "code",
   "execution_count": null,
   "metadata": {},
   "outputs": [],
   "source": [
    "#Make sure that the plots folder exists.\n",
    "plots_folder = \"plots_all_opsims_WFDfiltered_{0:d}\".format(NSIDE)\n",
    "if not os.path.exists(plots_folder):\n",
    "    os.mkdir(plots_folder)"
   ]
  },
  {
   "cell_type": "markdown",
   "metadata": {},
   "source": [
    "### Now make the calculations and plots"
   ]
  },
  {
   "cell_type": "code",
   "execution_count": null,
   "metadata": {},
   "outputs": [],
   "source": [
    "sys.path.append(\"../../Filter_Curves/\")\n",
    "from lam_eff import lam_eff"
   ]
  },
  {
   "cell_type": "code",
   "execution_count": null,
   "metadata": {},
   "outputs": [],
   "source": [
    "sys.path.append(\"../\")\n",
    "from Fast_Nqso import Fast_Nqso"
   ]
  },
  {
   "cell_type": "code",
   "execution_count": null,
   "metadata": {},
   "outputs": [],
   "source": [
    "#filters = [\"u\",\"g\",\"r\",\"i\",\"z\",\"y\"]\n",
    "filters = [\"i\"]\n",
    "mbright = {\"u\":14.7,\n",
    "           \"g\":15.7,\n",
    "           \"r\":15.8,\n",
    "           \"i\":15.8,\n",
    "           \"z\":15.3,\n",
    "           \"y\":13.9\n",
    "          }\n",
    "Nqso = dict()\n",
    "Area = dict()\n",
    "dens = dict()\n",
    "for filter in filters:\n",
    "    zmin = 0.3\n",
    "    zmax = np.min([6.7, (lam_eff['LSST'+filter]/(912.*u.AA) - 1.0).to(1.).value])\n",
    "    for k, run in enumerate(dbRuns):\n",
    "        for run_key in bundleDicts[run].keys():\n",
    "            if run_key[1][-1]==filter:\n",
    "                Key = run_key\n",
    "                break\n",
    "        mask  = wfd_mask[run] | bundleDicts[run][Key].metricValues.mask\n",
    "        mlim5 = bundleDicts[run][Key].metricValues[~mask]\n",
    "        filter = Key[1][-1]\n",
    "        qso_counter = Fast_Nqso(\"LSST\"+filter,\"Shen20\",\"A\",\n",
    "                                area=bundleDicts[run][Key].slicer.pixArea*u.sr)\n",
    "        if filter not in Nqso:\n",
    "            Nqso[filter] = np.zeros(len(dbRuns))\n",
    "            Area[filter] = np.zeros(len(dbRuns))\n",
    "            dens[filter] = np.zeros(len(dbRuns))\n",
    "        Nqso[filter][k] = np.sum(qso_counter.Nqso(zmin, zmax, mbright[filter], mlim5))\n",
    "        Area[filter][k] = len(mlim5) * (bundleDicts[run][Key].slicer.pixArea*u.sr).to(u.deg**2).value\n",
    "        dens[filter][k] = Nqso[filter][k]/Area[filter][k]"
   ]
  },
  {
   "cell_type": "code",
   "execution_count": null,
   "metadata": {},
   "outputs": [],
   "source": [
    "for filter in filters:\n",
    "    xlabel = r'$N_{\\rm QSO}$ expected in $'+filter+r'$-band'\n",
    "    survey_label = \"WFD\"\n",
    "    plot_OpSims_Nqso_hist_v2(filter, Nqso, xlabel=xlabel, \n",
    "                             datamin=None, datamax=None, bins=30, figsize=(8,4), \n",
    "                             survey_label=survey_label)\n",
    "    plt.savefig(plots_folder+\"/Nqso_{}.png\".format(filter))"
   ]
  },
  {
   "cell_type": "code",
   "execution_count": null,
   "metadata": {},
   "outputs": [],
   "source": [
    "for filter in filters:\n",
    "    xlabel = r'Area expected in $'+filter+r'$-band'\n",
    "    survey_label = \"WFD\"\n",
    "    plot_OpSims_Nqso_hist_v2(filter, Area, xlabel=xlabel,\n",
    "                             datamin=None, datamax=None, bins=30, figsize=(8,4),\n",
    "                             survey_label=survey_label)\n",
    "    plt.savefig(plots_folder+\"/Area_{}.png\".format(filter))"
   ]
  },
  {
   "cell_type": "code",
   "execution_count": null,
   "metadata": {},
   "outputs": [],
   "source": [
    "for filter in filters:\n",
    "    xlabel = r'$N_{\\rm QSO}/deg^{-2}$ expected in $'+filter+r'$-band'\n",
    "    survey_label = \"WFD\"\n",
    "    plot_OpSims_Nqso_hist_v2(filter, dens, xlabel=xlabel, \n",
    "                             datamin=None, datamax=None, bins=30, figsize=(8,4), \n",
    "                             survey_label=survey_label)\n",
    "    plt.savefig(plots_folder+\"/qso_density_{}.png\".format(filter))"
   ]
  },
  {
   "cell_type": "code",
   "execution_count": null,
   "metadata": {},
   "outputs": [],
   "source": [
    "median_depth = dict()\n",
    "for filter in filters:\n",
    "    zmin = 0.3\n",
    "    zmax = np.min([6.7, (lam_eff['LSST'+filter]/(912.*u.AA)).to(1.).value])\n",
    "    for k, run in enumerate(dbRuns):\n",
    "        for run_key in bundleDicts[run].keys():\n",
    "            if run_key[1][-1]==filter:\n",
    "                Key = run_key\n",
    "                break\n",
    "        mask  = bundleDicts[run][Key].metricValues.mask\n",
    "        mlim5 = bundleDicts[run][Key].metricValues[~mask]\n",
    "        filter = Key[1][-1]\n",
    "        if filter not in median_depth:\n",
    "            median_depth[filter] = np.zeros(len(dbRuns))\n",
    "        median_depth[filter][k] = np.median(mlim5)"
   ]
  },
  {
   "cell_type": "code",
   "execution_count": null,
   "metadata": {},
   "outputs": [],
   "source": [
    "for filter in filters:\n",
    "    xlabel = r'Median depth expected in $'+filter+r'$-band'\n",
    "    survey_label = \"WFD\"\n",
    "    plot_OpSims_Nqso_hist_v2(filter, median_depth, xlabel=xlabel, \n",
    "                             datamin=None, datamax=None, bins=30, figsize=(8,4),\n",
    "                             survey_label=survey_label)\n",
    "    #plt.savefig(plots_folder+\"/qso_density_{}.png\".format(filter))"
   ]
  },
  {
   "cell_type": "code",
   "execution_count": null,
   "metadata": {},
   "outputs": [],
   "source": []
  }
 ],
 "metadata": {
  "kernelspec": {
   "display_name": "Python 3",
   "language": "python",
   "name": "python3"
  },
  "language_info": {
   "codemirror_mode": {
    "name": "ipython",
    "version": 3
   },
   "file_extension": ".py",
   "mimetype": "text/x-python",
   "name": "python",
   "nbconvert_exporter": "python",
   "pygments_lexer": "ipython3",
   "version": "3.7.8"
  }
 },
 "nbformat": 4,
 "nbformat_minor": 4
}
