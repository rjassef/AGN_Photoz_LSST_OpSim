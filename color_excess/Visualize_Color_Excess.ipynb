{
 "cells": [
  {
   "cell_type": "code",
   "execution_count": null,
   "metadata": {},
   "outputs": [],
   "source": [
    "%load_ext autoreload\n",
    "%autoreload 2"
   ]
  },
  {
   "cell_type": "code",
   "execution_count": null,
   "metadata": {},
   "outputs": [],
   "source": [
    "# import matplotlib to show plots inline.\n",
    "%matplotlib inline\n",
    "import matplotlib.pyplot as plt\n",
    "import pandas as pd\n",
    "import numpy as np\n",
    "import glob\n",
    "import os\n",
    "\n",
    "import astropy.units as u\n",
    "import matplotlib as mpl\n",
    "import sys \n",
    "sys.path.append(\"..\")\n",
    "from plot_OpSims import plot_OpSims_hist"
   ]
  },
  {
   "cell_type": "code",
   "execution_count": null,
   "metadata": {},
   "outputs": [],
   "source": [
    "# import maf python modules\n",
    "import lsst.sims.maf.db as db\n",
    "import lsst.sims.maf.metrics as metrics\n",
    "import lsst.sims.maf.slicers as slicers\n",
    "import lsst.sims.maf.stackers as stackers\n",
    "import lsst.sims.maf.plots as plots\n",
    "import lsst.sims.maf.metricBundles as metricBundles"
   ]
  },
  {
   "cell_type": "code",
   "execution_count": null,
   "metadata": {},
   "outputs": [],
   "source": [
    "# import convenience functions\n",
    "import sys \n",
    "sys.path.append(\"../../LSST_OpSim\")\n",
    "from Scripts_NBs.opsimUtils import *"
   ]
  },
  {
   "cell_type": "markdown",
   "metadata": {},
   "source": [
    "## Load the results\n",
    "We first load the results of the run into memory. We will read jointly the FBS v1.5 and FBS v1.6 results, and will differentiate at the time of plotting."
   ]
  },
  {
   "cell_type": "code",
   "execution_count": null,
   "metadata": {},
   "outputs": [],
   "source": [
    "your_username = \"rjassef\"\n",
    "folder_mafoutput = \"Color_EM5\"\n",
    "resultDbPath = '/home/idies/workspace/Storage/{0}/persistent/MAFOutput/{1}'.format(\n",
    "    your_username, folder_mafoutput)\n",
    "metricDataPath = '/home/idies/workspace/Storage/{0}/persistent/MAFOutput/{1}/MetricData/'.format(\n",
    "    your_username, folder_mafoutput)"
   ]
  },
  {
   "cell_type": "code",
   "execution_count": null,
   "metadata": {},
   "outputs": [],
   "source": [
    "# get a dictionary of resultDb from given directory\n",
    "resultDbs = getResultsDbs(resultDbPath)"
   ]
  },
  {
   "cell_type": "code",
   "execution_count": null,
   "metadata": {},
   "outputs": [],
   "source": [
    "# retrieve metricBundles for each opsim run and store them in a dictionary\n",
    "bundleDicts_raw = dict()\n",
    "for runName in resultDbs:\n",
    "    bundleDicts_raw[runName] = bundleDictFromDisk(resultDbs[runName], runName, metricDataPath)"
   ]
  },
  {
   "cell_type": "code",
   "execution_count": null,
   "metadata": {},
   "outputs": [],
   "source": [
    "#Rearrange the bundleDicts_raw dictionary so that the keys are always the same as for the first run.\n",
    "dbRuns = list(resultDbs.keys())\n",
    "Keys = list(bundleDicts_raw[dbRuns[0]].keys())\n",
    "bundleDicts = dict()\n",
    "for runName in dbRuns:\n",
    "    bundleDicts[runName] = dict()\n",
    "    Keys_raw = bundleDicts_raw[runName]\n",
    "    for Key in Keys:\n",
    "        for Key_raw in Keys_raw:\n",
    "            if Key[1]==Key_raw[1]:\n",
    "                bundleDicts[runName][Key] = bundleDicts_raw[runName][Key_raw]"
   ]
  },
  {
   "cell_type": "code",
   "execution_count": null,
   "metadata": {},
   "outputs": [],
   "source": [
    "# check keys\n",
    "bd_keys = list(bundleDicts[dbRuns[0]].keys())\n",
    "print(bd_keys, len(list(bundleDicts.keys())), len(list(bundleDicts_raw.keys())))\n",
    "print(Keys)"
   ]
  },
  {
   "cell_type": "markdown",
   "metadata": {},
   "source": [
    "# i=24.5, z=2.0"
   ]
  },
  {
   "cell_type": "code",
   "execution_count": null,
   "metadata": {},
   "outputs": [],
   "source": [
    "imag = 24.5\n",
    "z = 2.0"
   ]
  },
  {
   "cell_type": "code",
   "execution_count": null,
   "metadata": {},
   "outputs": [],
   "source": [
    "from quasar_colors.quasar_colors import Temple_colors"
   ]
  },
  {
   "cell_type": "markdown",
   "metadata": {},
   "source": [
    "### u-g"
   ]
  },
  {
   "cell_type": "code",
   "execution_count": null,
   "metadata": {},
   "outputs": [],
   "source": [
    "quasar_color = Temple_colors('u-g',z,imag)\n",
    "print(quasar_color)\n",
    "def color_excess(color):\n",
    "    return color-quasar_color"
   ]
  },
  {
   "cell_type": "code",
   "execution_count": null,
   "metadata": {},
   "outputs": [],
   "source": [
    "#Key to use\n",
    "Key = Keys[0]\n",
    "print(Key)\n",
    "\n",
    "#Function to process the matric data through.\n",
    "data_func = color_excess\n",
    "\n",
    "#X-axis Label\n",
    "xlabel = r\"u-g depth color excess (mag)\"\n",
    "\n",
    "#Area of each element\n",
    "healpix_pixarea = bundleDicts[dbRuns[0]][Key].slicer.pixArea * u.sr\n",
    "\n",
    "#Plot FBS v1.5\n",
    "plot_OpSims_hist(Key, bundleDicts, data_func=data_func, figsize=(8,8), FBS=\"v1.5\", healpix_pixarea=healpix_pixarea, \n",
    "                 datamin=None, datamax=None, color_map=[mpl.cm.summer,mpl.cm.cool], xlabel=xlabel)\n",
    "\n",
    "#Plot FBS v1.6\n",
    "plot_OpSims_hist(Key, bundleDicts, data_func=data_func, figsize=(8,8), FBS=\"v1.6\", healpix_pixarea=healpix_pixarea, \n",
    "                 datamin=None, datamax=None, color_map=mpl.cm.cool, xlabel=xlabel)"
   ]
  },
  {
   "cell_type": "markdown",
   "metadata": {},
   "source": [
    "### g-r"
   ]
  },
  {
   "cell_type": "code",
   "execution_count": null,
   "metadata": {},
   "outputs": [],
   "source": [
    "quasar_color = Temple_colors('g-r',z,imag)\n",
    "print(quasar_color)\n",
    "def color_excess(color):\n",
    "    return color-quasar_color"
   ]
  },
  {
   "cell_type": "code",
   "execution_count": null,
   "metadata": {},
   "outputs": [],
   "source": [
    "#Key to use\n",
    "Key = Keys[1]\n",
    "print(Key)\n",
    "\n",
    "#Function to process the matric data through.\n",
    "data_func = color_excess\n",
    "\n",
    "#X-axis Label\n",
    "xlabel = r\"g-r depth color excess (mag)\"\n",
    "\n",
    "#Area of each element\n",
    "healpix_pixarea = bundleDicts[dbRuns[0]][Key].slicer.pixArea * u.sr\n",
    "\n",
    "#Plot FBS v1.5\n",
    "plot_OpSims_hist(Key, bundleDicts, data_func=data_func, figsize=(8,8), FBS=\"v1.5\", healpix_pixarea=healpix_pixarea, \n",
    "                 datamin=None, datamax=None, color_map=[mpl.cm.summer,mpl.cm.cool], xlabel=xlabel)\n",
    "\n",
    "#Plot FBS v1.6\n",
    "plot_OpSims_hist(Key, bundleDicts, data_func=data_func, figsize=(8,8), FBS=\"v1.6\", healpix_pixarea=healpix_pixarea, \n",
    "                 datamin=None, datamax=None, color_map=mpl.cm.cool, xlabel=xlabel)"
   ]
  },
  {
   "cell_type": "markdown",
   "metadata": {},
   "source": [
    "### r-i"
   ]
  },
  {
   "cell_type": "code",
   "execution_count": null,
   "metadata": {},
   "outputs": [],
   "source": [
    "quasar_color = Temple_colors('r-i',z,imag)\n",
    "print(quasar_color)\n",
    "def color_excess(color):\n",
    "    return color-quasar_color"
   ]
  },
  {
   "cell_type": "code",
   "execution_count": null,
   "metadata": {},
   "outputs": [],
   "source": [
    "#Key to use\n",
    "Key = Keys[2]\n",
    "print(Key)\n",
    "\n",
    "#Function to process the matric data through.\n",
    "data_func = color_excess\n",
    "\n",
    "#X-axis Label\n",
    "xlabel = r\"r-i depth color excess (mag)\"\n",
    "\n",
    "#Area of each element\n",
    "healpix_pixarea = bundleDicts[dbRuns[0]][Key].slicer.pixArea * u.sr\n",
    "\n",
    "#Plot FBS v1.5\n",
    "plot_OpSims_hist(Key, bundleDicts, data_func=data_func, figsize=(8,8), FBS=\"v1.5\", healpix_pixarea=healpix_pixarea, \n",
    "                 datamin=None, datamax=None, color_map=[mpl.cm.summer,mpl.cm.cool], xlabel=xlabel)\n",
    "\n",
    "#Plot FBS v1.6\n",
    "plot_OpSims_hist(Key, bundleDicts, data_func=data_func, figsize=(8,8), FBS=\"v1.6\", healpix_pixarea=healpix_pixarea, \n",
    "                 datamin=None, datamax=None, color_map=mpl.cm.cool, xlabel=xlabel)"
   ]
  },
  {
   "cell_type": "markdown",
   "metadata": {},
   "source": [
    "### i-z"
   ]
  },
  {
   "cell_type": "code",
   "execution_count": null,
   "metadata": {},
   "outputs": [],
   "source": [
    "quasar_color = Temple_colors('i-z',z,imag)\n",
    "print(quasar_color)\n",
    "def color_excess(color):\n",
    "    return color-quasar_color"
   ]
  },
  {
   "cell_type": "code",
   "execution_count": null,
   "metadata": {},
   "outputs": [],
   "source": [
    "#Key to use\n",
    "Key = Keys[3]\n",
    "print(Key)\n",
    "\n",
    "#Function to process the matric data through.\n",
    "data_func = color_excess\n",
    "\n",
    "#X-axis Label\n",
    "xlabel = r\"i-z depth color excess (mag)\"\n",
    "\n",
    "#Area of each element\n",
    "healpix_pixarea = bundleDicts[dbRuns[0]][Key].slicer.pixArea * u.sr\n",
    "\n",
    "#Plot FBS v1.5\n",
    "plot_OpSims_hist(Key, bundleDicts, data_func=data_func, figsize=(8,8), FBS=\"v1.5\", healpix_pixarea=healpix_pixarea, \n",
    "                 datamin=None, datamax=None, color_map=[mpl.cm.summer,mpl.cm.cool], xlabel=xlabel)\n",
    "\n",
    "#Plot FBS v1.6\n",
    "plot_OpSims_hist(Key, bundleDicts, data_func=data_func, figsize=(8,8), FBS=\"v1.6\", healpix_pixarea=healpix_pixarea, \n",
    "                 datamin=None, datamax=None, color_map=mpl.cm.cool, xlabel=xlabel)"
   ]
  },
  {
   "cell_type": "markdown",
   "metadata": {},
   "source": [
    "### z-y"
   ]
  },
  {
   "cell_type": "code",
   "execution_count": null,
   "metadata": {},
   "outputs": [],
   "source": [
    "quasar_color = Temple_colors('z-y',z,imag)\n",
    "print(quasar_color)\n",
    "def color_excess(color):\n",
    "    return color-quasar_color"
   ]
  },
  {
   "cell_type": "code",
   "execution_count": null,
   "metadata": {},
   "outputs": [],
   "source": [
    "#Key to use\n",
    "Key = Keys[4]\n",
    "print(Key)\n",
    "\n",
    "#Function to process the matric data through.\n",
    "data_func = color_excess\n",
    "\n",
    "#X-axis Label\n",
    "xlabel = r\"i-z depth color excess (mag)\"\n",
    "\n",
    "#Area of each element\n",
    "healpix_pixarea = bundleDicts[dbRuns[0]][Key].slicer.pixArea * u.sr\n",
    "\n",
    "#Plot FBS v1.5\n",
    "plot_OpSims_hist(Key, bundleDicts, data_func=data_func, figsize=(8,8), FBS=\"v1.5\", healpix_pixarea=healpix_pixarea, \n",
    "                 datamin=None, datamax=None, color_map=[mpl.cm.summer,mpl.cm.cool], xlabel=xlabel)\n",
    "\n",
    "#Plot FBS v1.6\n",
    "plot_OpSims_hist(Key, bundleDicts, data_func=data_func, figsize=(8,8), FBS=\"v1.6\", healpix_pixarea=healpix_pixarea, \n",
    "                 datamin=None, datamax=None, color_map=mpl.cm.cool, xlabel=xlabel)"
   ]
  },
  {
   "cell_type": "code",
   "execution_count": null,
   "metadata": {},
   "outputs": [],
   "source": []
  }
 ],
 "metadata": {
  "kernelspec": {
   "display_name": "Python 3",
   "language": "python",
   "name": "python3"
  },
  "language_info": {
   "codemirror_mode": {
    "name": "ipython",
    "version": 3
   },
   "file_extension": ".py",
   "mimetype": "text/x-python",
   "name": "python",
   "nbconvert_exporter": "python",
   "pygments_lexer": "ipython3",
   "version": "3.7.8"
  }
 },
 "nbformat": 4,
 "nbformat_minor": 4
}
