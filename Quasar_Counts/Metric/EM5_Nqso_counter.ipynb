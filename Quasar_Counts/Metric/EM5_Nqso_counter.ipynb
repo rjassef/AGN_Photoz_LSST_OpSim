{
 "cells": [
  {
   "cell_type": "code",
   "execution_count": null,
   "metadata": {},
   "outputs": [],
   "source": [
    "%load_ext autoreload\n",
    "%autoreload 2"
   ]
  },
  {
   "cell_type": "code",
   "execution_count": null,
   "metadata": {},
   "outputs": [],
   "source": [
    "# import matplotlib to show plots inline.\n",
    "%matplotlib inline\n",
    "import matplotlib.pyplot as plt\n",
    "import pandas as pd\n",
    "import numpy as np\n",
    "import glob\n",
    "import os\n",
    "\n",
    "import astropy.units as u\n",
    "import matplotlib as mpl\n",
    "import sys \n",
    "sys.path.append(\"../../\")\n",
    "from plot_OpSims import plot_OpSims_Nqso_hist"
   ]
  },
  {
   "cell_type": "code",
   "execution_count": null,
   "metadata": {},
   "outputs": [],
   "source": [
    "# import maf python modules\n",
    "import lsst.sims.maf.db as db\n",
    "import lsst.sims.maf.metrics as metrics\n",
    "import lsst.sims.maf.slicers as slicers\n",
    "import lsst.sims.maf.stackers as stackers\n",
    "import lsst.sims.maf.plots as plots\n",
    "import lsst.sims.maf.metricBundles as metricBundles"
   ]
  },
  {
   "cell_type": "code",
   "execution_count": null,
   "metadata": {},
   "outputs": [],
   "source": [
    "# import convenience functions\n",
    "import sys \n",
    "sys.path.append(\"../../../LSST_OpSim\")\n",
    "from Scripts_NBs.opsimUtils import *"
   ]
  },
  {
   "cell_type": "code",
   "execution_count": null,
   "metadata": {},
   "outputs": [],
   "source": [
    "NSIDE=64\n",
    "your_username = \"rjassef\"\n",
    "folder_mafoutput = \"EM5_{0:d}\".format(NSIDE)\n",
    "resultDbPath = '/home/idies/workspace/Temporary/{0}/scratch/MAFOutput/{1}'.format(\n",
    "    your_username, folder_mafoutput)\n",
    "metricDataPath = '/home/idies/workspace/Temporary/{0}/scratch/MAFOutput/{1}/MetricData/'.format(\n",
    "    your_username, folder_mafoutput)"
   ]
  },
  {
   "cell_type": "code",
   "execution_count": null,
   "metadata": {},
   "outputs": [],
   "source": [
    "# get a dictionary of resultDb from given directory\n",
    "resultDbs = getResultsDbs(resultDbPath)"
   ]
  },
  {
   "cell_type": "code",
   "execution_count": null,
   "metadata": {},
   "outputs": [],
   "source": [
    "# retrieve metricBundles for each opsim run and store them in a dictionary\n",
    "bundleDicts_raw = dict()\n",
    "for runName in resultDbs:\n",
    "    bundleDicts_raw[runName] = bundleDictFromDisk(resultDbs[runName], runName, metricDataPath)"
   ]
  },
  {
   "cell_type": "code",
   "execution_count": null,
   "metadata": {},
   "outputs": [],
   "source": [
    "#Rearrange the bundleDicts_raw dictionary so that the keys are always the same as for the first run.\n",
    "dbRuns = list(bundleDicts_raw.keys())\n",
    "Keys = list(bundleDicts_raw[dbRuns[0]].keys())\n",
    "bundleDicts = dict()\n",
    "for runName in dbRuns:\n",
    "    bundleDicts[runName] = dict()\n",
    "    Keys_raw = bundleDicts_raw[runName]\n",
    "    for Key in Keys:\n",
    "        for Key_raw in Keys_raw:\n",
    "            if Key[1]==Key_raw[1]:\n",
    "                bundleDicts[runName][Key] = bundleDicts_raw[runName][Key_raw]"
   ]
  },
  {
   "cell_type": "code",
   "execution_count": null,
   "metadata": {},
   "outputs": [],
   "source": [
    "# check keys\n",
    "dbRuns = list(resultDbs.keys())\n",
    "bd_keys = list(bundleDicts[dbRuns[0]].keys())\n",
    "print(bd_keys)"
   ]
  },
  {
   "cell_type": "code",
   "execution_count": null,
   "metadata": {},
   "outputs": [],
   "source": [
    "sys.path.append(\"../\")\n",
    "from Fast_Nqso import Fast_Nqso"
   ]
  },
  {
   "cell_type": "code",
   "execution_count": null,
   "metadata": {},
   "outputs": [],
   "source": [
    "zmin = 0.3\n",
    "zmax = 6.7\n",
    "mbright = 15.7\n",
    "for run in dbRuns:\n",
    "    print(run)\n",
    "    for key in bundleDicts[run].keys():\n",
    "        mask  = bundleDicts[run][key].metricValues.mask\n",
    "        mlim5 = bundleDicts[run][key].metricValues[~mask]\n",
    "        qso_counter = Fast_Nqso(\"LSSTi\",\"Shen20\",\"A\",area=bundleDicts[run][key].slicer.pixArea*u.sr)\n",
    "        print(key, np.sum(qso_counter.Nqso(zmin, zmax, mbright, mlim5)))"
   ]
  },
  {
   "cell_type": "code",
   "execution_count": null,
   "metadata": {},
   "outputs": [],
   "source": []
  }
 ],
 "metadata": {
  "kernelspec": {
   "display_name": "Python 3",
   "language": "python",
   "name": "python3"
  },
  "language_info": {
   "codemirror_mode": {
    "name": "ipython",
    "version": 3
   },
   "file_extension": ".py",
   "mimetype": "text/x-python",
   "name": "python",
   "nbconvert_exporter": "python",
   "pygments_lexer": "ipython3",
   "version": "3.7.8"
  }
 },
 "nbformat": 4,
 "nbformat_minor": 4
}
