{
 "cells": [
  {
   "cell_type": "code",
   "execution_count": 1,
   "metadata": {},
   "outputs": [],
   "source": [
    "%load_ext autoreload\n",
    "%autoreload 2"
   ]
  },
  {
   "cell_type": "code",
   "execution_count": 2,
   "metadata": {},
   "outputs": [],
   "source": [
    "import numpy as np"
   ]
  },
  {
   "cell_type": "markdown",
   "metadata": {},
   "source": [
    "Description\n",
    "===========\n",
    "\n",
    "This notebook estimates the number of quasars that will be detected down to the 5 sigma depths."
   ]
  },
  {
   "cell_type": "code",
   "execution_count": 3,
   "metadata": {},
   "outputs": [],
   "source": [
    "import lsst.sims.maf.db as db\n",
    "import lsst.sims.maf.metrics as metrics\n",
    "import lsst.sims.maf.slicers as slicers\n",
    "import lsst.sims.maf.stackers as stackers\n",
    "import lsst.sims.maf.plots as plots\n",
    "import lsst.sims.maf.metricBundles as metricBundles\n",
    "from lsst.sims.maf.metrics import BaseMetric\n",
    "\n",
    "import os\n",
    "import sys\n",
    "sys.path.append(\"../../../LSST_OpSim/Scripts_NBs/\")\n",
    "from opsimUtils import *"
   ]
  },
  {
   "cell_type": "markdown",
   "metadata": {},
   "source": [
    "#### Setup the metrics"
   ]
  },
  {
   "cell_type": "code",
   "execution_count": 4,
   "metadata": {},
   "outputs": [],
   "source": [
    "from Nqso_metric import NqsoMetric"
   ]
  },
  {
   "cell_type": "code",
   "execution_count": 5,
   "metadata": {},
   "outputs": [
    {
     "name": "stdout",
     "output_type": "stream",
     "text": [
      "Healpix slicer using NSIDE=64, approximate resolution 54.967783 arcminutes\n"
     ]
    }
   ],
   "source": [
    "#We will use the same slicer and constraint for each metric. Since there are no warnings about cache\n",
    "#and minimum nside, we will use 64 to go faster.\n",
    "NSIDE=64\n",
    "slicer = slicers.HealpixSlicer(nside=NSIDE)\n",
    "constraint = 'note not like \"DD%\"' # added so the sky plot won't saturate (remove DDFs)"
   ]
  },
  {
   "cell_type": "code",
   "execution_count": 6,
   "metadata": {},
   "outputs": [],
   "source": [
    "Nqso_EM5 = list()\n",
    "#filters = ['u', 'g', 'r', 'i', 'z', 'y']\n",
    "filters = ['i']\n",
    "for filter in filters:\n",
    "    metric = NqsoMetric(filter)\n",
    "    Nqso_EM5.append(metricBundles.MetricBundle(metric, slicer, constraint))"
   ]
  },
  {
   "cell_type": "code",
   "execution_count": 7,
   "metadata": {},
   "outputs": [],
   "source": [
    "bundleDict = dict()\n",
    "for k,filter in enumerate(filters):\n",
    "    bundleDict['Nqso_EM5_{}'.format(filter)] = Nqso_EM5[k]\n"
   ]
  },
  {
   "cell_type": "markdown",
   "metadata": {},
   "source": [
    "#### Run for FBS v1.5"
   ]
  },
  {
   "cell_type": "code",
   "execution_count": 8,
   "metadata": {},
   "outputs": [],
   "source": [
    "your_username = \"rjassef\"\n",
    "folder_mafoutput = \"Nqso_EM5_{0:d}\".format(NSIDE)"
   ]
  },
  {
   "cell_type": "code",
   "execution_count": 9,
   "metadata": {},
   "outputs": [],
   "source": [
    "FBS_version = \"1.5\"\n",
    "dbDir = '/home/idies/workspace/lsst_cadence/FBS_{}/'.format(FBS_version)\n",
    "outDir = '/home/idies/workspace/Temporary/{0}/scratch/MAFOutput/{1}'.format(your_username,folder_mafoutput)\n",
    "\n",
    "if not os.path.exists(os.path.abspath(outDir)):\n",
    "    os.mkdir(os.path.abspath(outDir))"
   ]
  },
  {
   "cell_type": "code",
   "execution_count": 10,
   "metadata": {},
   "outputs": [],
   "source": [
    "opSimDbs, resultDbs = connect_dbs(dbDir, outDir)"
   ]
  },
  {
   "cell_type": "code",
   "execution_count": 11,
   "metadata": {},
   "outputs": [
    {
     "name": "stdout",
     "output_type": "stream",
     "text": [
      "Querying database SummaryAllProps with constraint note not like \"DD%\" for columns ['fieldDec', 'fieldRA', 'filter', 'fiveSigmaDepth']\n",
      "Found 2121814 visits\n",
      "Running:  ['Nqso_EM5_i']\n"
     ]
    },
    {
     "name": "stderr",
     "output_type": "stream",
     "text": [
      "/home/idies/lsst/stack/miniconda3-py37_4.8.2-cb4e2dc/Linux64/sims_maf/2.13.0.sims-64-g788d3062+53334d830b/python/lsst/sims/maf/slicers/baseSpatialSlicer.py:110: UserWarning: Warning:  Loading maps but cache on.Should probably set useCache=False in slicer.\n",
      "  warnings.warn('Warning:  Loading maps but cache on.'\n",
      "/home/idies/lsst/stack/miniconda3-py37_4.8.2-cb4e2dc/Linux64/sims_maf/2.13.0.sims-64-g788d3062+53334d830b/python/lsst/sims/maf/maps/dustMap.py:25: UserWarning: Slicer value of nside (64) different from map value (128), using slicer value\n",
      "  % (slicePoints['nside'],self.nside ))\n"
     ]
    },
    {
     "name": "stdout",
     "output_type": "stream",
     "text": [
      "Completed metric generation.\n",
      "Running reduce methods.\n",
      "Running summary statistics.\n",
      "Completed.\n",
      "Querying database SummaryAllProps with constraint note not like \"DD%\" for columns ['fieldDec', 'fieldRA', 'filter', 'fiveSigmaDepth']\n",
      "Found 2134426 visits\n",
      "Running:  ['Nqso_EM5_i']\n",
      "Completed metric generation.\n",
      "Running reduce methods.\n",
      "Running summary statistics.\n",
      "Completed.\n",
      "Querying database SummaryAllProps with constraint note not like \"DD%\" for columns ['fieldDec', 'fieldRA', 'filter', 'fiveSigmaDepth']\n",
      "Found 2225655 visits\n",
      "Running:  ['Nqso_EM5_i']\n",
      "Completed metric generation.\n",
      "Running reduce methods.\n",
      "Running summary statistics.\n",
      "Completed.\n",
      "Querying database SummaryAllProps with constraint note not like \"DD%\" for columns ['fieldDec', 'fieldRA', 'filter', 'fiveSigmaDepth']\n",
      "Found 1999346 visits\n",
      "Running:  ['Nqso_EM5_i']\n",
      "Completed metric generation.\n",
      "Running reduce methods.\n",
      "Running summary statistics.\n",
      "Completed.\n",
      "Querying database SummaryAllProps with constraint note not like \"DD%\" for columns ['fieldDec', 'fieldRA', 'filter', 'fiveSigmaDepth']\n",
      "Found 2132915 visits\n",
      "Running:  ['Nqso_EM5_i']\n",
      "Completed metric generation.\n",
      "Running reduce methods.\n",
      "Running summary statistics.\n",
      "Completed.\n"
     ]
    }
   ],
   "source": [
    "metricDataPath = '/home/idies/workspace/Temporary/{0}/scratch/MAFOutput/{1}/MetricData/'.format(\n",
    "    your_username, folder_mafoutput)\n",
    "dbRuns = show_opsims(dbDir)\n",
    "for run in dbRuns[:5]:\n",
    "    for Nqso_filt in Nqso_EM5:\n",
    "        Nqso_filt.setRunName(run)\n",
    "    metricGroup = metricBundles.MetricBundleGroup(bundleDict,\\\n",
    "                    opSimDbs[run], metricDataPath, resultDbs[run])\n",
    "    metricGroup.runAll()"
   ]
  },
  {
   "cell_type": "code",
   "execution_count": null,
   "metadata": {},
   "outputs": [],
   "source": []
  }
 ],
 "metadata": {
  "kernelspec": {
   "display_name": "Python 3",
   "language": "python",
   "name": "python3"
  },
  "language_info": {
   "codemirror_mode": {
    "name": "ipython",
    "version": 3
   },
   "file_extension": ".py",
   "mimetype": "text/x-python",
   "name": "python",
   "nbconvert_exporter": "python",
   "pygments_lexer": "ipython3",
   "version": "3.7.8"
  }
 },
 "nbformat": 4,
 "nbformat_minor": 4
}
