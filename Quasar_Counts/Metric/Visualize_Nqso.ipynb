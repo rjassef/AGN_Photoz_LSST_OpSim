{
 "cells": [
  {
   "cell_type": "code",
   "execution_count": 1,
   "metadata": {},
   "outputs": [],
   "source": [
    "%load_ext autoreload\n",
    "%autoreload 2"
   ]
  },
  {
   "cell_type": "code",
   "execution_count": 3,
   "metadata": {},
   "outputs": [],
   "source": [
    "# import matplotlib to show plots inline.\n",
    "%matplotlib inline\n",
    "import matplotlib.pyplot as plt\n",
    "import pandas as pd\n",
    "import numpy as np\n",
    "import glob\n",
    "import os\n",
    "\n",
    "import astropy.units as u\n",
    "import matplotlib as mpl\n",
    "import sys \n",
    "sys.path.append(\"../../\")\n",
    "from plot_OpSims import plot_OpSims_hist"
   ]
  },
  {
   "cell_type": "code",
   "execution_count": 4,
   "metadata": {},
   "outputs": [],
   "source": [
    "# import maf python modules\n",
    "import lsst.sims.maf.db as db\n",
    "import lsst.sims.maf.metrics as metrics\n",
    "import lsst.sims.maf.slicers as slicers\n",
    "import lsst.sims.maf.stackers as stackers\n",
    "import lsst.sims.maf.plots as plots\n",
    "import lsst.sims.maf.metricBundles as metricBundles"
   ]
  },
  {
   "cell_type": "code",
   "execution_count": 5,
   "metadata": {},
   "outputs": [],
   "source": [
    "# import convenience functions\n",
    "import sys \n",
    "sys.path.append(\"../../../LSST_OpSim\")\n",
    "from Scripts_NBs.opsimUtils import *"
   ]
  },
  {
   "cell_type": "markdown",
   "metadata": {},
   "source": [
    "## Load the results\n",
    "We first load the results of the run into memory. We will read jointly the FBS v1.5 and FBS v1.6 results, and will differentiate at the time of plotting."
   ]
  },
  {
   "cell_type": "code",
   "execution_count": 11,
   "metadata": {},
   "outputs": [],
   "source": [
    "NSIDE=64\n",
    "your_username = \"rjassef\"\n",
    "folder_mafoutput = \"Nqso_EM5_{0:d}\".format(NSIDE)\n",
    "resultDbPath = '/home/idies/workspace/Temporary/{0}/scratch/MAFOutput/{1}'.format(\n",
    "    your_username, folder_mafoutput)\n",
    "metricDataPath = '/home/idies/workspace/Temporary/{0}/scratch/MAFOutput/{1}/MetricData/'.format(\n",
    "    your_username, folder_mafoutput)"
   ]
  },
  {
   "cell_type": "code",
   "execution_count": 12,
   "metadata": {},
   "outputs": [],
   "source": [
    "# get a dictionary of resultDb from given directory\n",
    "resultDbs = getResultsDbs(resultDbPath)"
   ]
  },
  {
   "cell_type": "code",
   "execution_count": 13,
   "metadata": {},
   "outputs": [
    {
     "name": "stdout",
     "output_type": "stream",
     "text": [
      "Healpix slicer using NSIDE=64, approximate resolution 54.967783 arcminutes\n",
      "Healpix slicer using NSIDE=64, approximate resolution 54.967783 arcminutes\n",
      "Healpix slicer using NSIDE=64, approximate resolution 54.967783 arcminutes\n",
      "Healpix slicer using NSIDE=64, approximate resolution 54.967783 arcminutes\n",
      "Healpix slicer using NSIDE=64, approximate resolution 54.967783 arcminutes\n"
     ]
    }
   ],
   "source": [
    "# retrieve metricBundles for each opsim run and store them in a dictionary\n",
    "bundleDicts_raw = dict()\n",
    "for runName in resultDbs:\n",
    "    bundleDicts_raw[runName] = bundleDictFromDisk(resultDbs[runName], runName, metricDataPath)"
   ]
  },
  {
   "cell_type": "code",
   "execution_count": 14,
   "metadata": {},
   "outputs": [],
   "source": [
    "#Rearrange the bundleDicts_raw dictionary so that the keys are always the same as for the first run.\n",
    "dbRuns = list(bundleDicts_raw.keys())\n",
    "Keys = list(bundleDicts_raw[dbRuns[0]].keys())\n",
    "bundleDicts = dict()\n",
    "for runName in dbRuns:\n",
    "    bundleDicts[runName] = dict()\n",
    "    Keys_raw = bundleDicts_raw[runName]\n",
    "    for Key in Keys:\n",
    "        for Key_raw in Keys_raw:\n",
    "            if Key[1]==Key_raw[1]:\n",
    "                bundleDicts[runName][Key] = bundleDicts_raw[runName][Key_raw]"
   ]
  },
  {
   "cell_type": "code",
   "execution_count": 15,
   "metadata": {},
   "outputs": [
    {
     "name": "stdout",
     "output_type": "stream",
     "text": [
      "[(1, 'Nqso_i')]\n"
     ]
    }
   ],
   "source": [
    "# check keys\n",
    "dbRuns = list(resultDbs.keys())\n",
    "bd_keys = list(bundleDicts[dbRuns[0]].keys())\n",
    "print(bd_keys)"
   ]
  },
  {
   "cell_type": "code",
   "execution_count": 20,
   "metadata": {},
   "outputs": [
    {
     "name": "stdout",
     "output_type": "stream",
     "text": [
      "16230384.006121088\n",
      "16166570.897795131\n",
      "16135537.006473241\n",
      "16225132.970306553\n",
      "15657159.949010683\n"
     ]
    }
   ],
   "source": [
    "key = (1,'Nqso_i')\n",
    "for run in dbRuns:\n",
    "    mb  = bundleDicts[run][key]\n",
    "    mask = mb.metricValues.mask\n",
    "    area_sq_deg = (mb.slicer.pixArea * u.sr).to(u.deg**2).value\n",
    "    print(np.sum(mb.metricValues[~mask]*area_sq_deg))"
   ]
  },
  {
   "cell_type": "code",
   "execution_count": null,
   "metadata": {},
   "outputs": [],
   "source": []
  }
 ],
 "metadata": {
  "kernelspec": {
   "display_name": "Python 3",
   "language": "python",
   "name": "python3"
  },
  "language_info": {
   "codemirror_mode": {
    "name": "ipython",
    "version": 3
   },
   "file_extension": ".py",
   "mimetype": "text/x-python",
   "name": "python",
   "nbconvert_exporter": "python",
   "pygments_lexer": "ipython3",
   "version": "3.7.8"
  }
 },
 "nbformat": 4,
 "nbformat_minor": 4
}
