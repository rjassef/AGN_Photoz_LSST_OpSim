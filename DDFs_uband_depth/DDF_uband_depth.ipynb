{
 "cells": [
  {
   "cell_type": "code",
   "execution_count": null,
   "metadata": {},
   "outputs": [],
   "source": [
    "import numpy as np"
   ]
  },
  {
   "cell_type": "markdown",
   "metadata": {},
   "source": [
    "Description\n",
    "===========\n",
    "\n",
    "This notebook is equivalent to the one used for the general survey [found here](../uband_depth/Lstar_depth_dust.ipynb) but applied to the DDFs specifically."
   ]
  },
  {
   "cell_type": "code",
   "execution_count": null,
   "metadata": {},
   "outputs": [],
   "source": [
    "import lsst.sims.maf.db as db\n",
    "import lsst.sims.maf.metrics as metrics\n",
    "import lsst.sims.maf.slicers as slicers\n",
    "import lsst.sims.maf.stackers as stackers\n",
    "import lsst.sims.maf.plots as plots\n",
    "import lsst.sims.maf.metricBundles as metricBundles\n",
    "from lsst.sims.maf.metrics import BaseMetric\n",
    "\n",
    "import os\n",
    "import sys\n",
    "sys.path.append(\"../../LSST_OpSim/Scripts_NBs/\")\n",
    "from opsimUtils import *\n",
    "\n",
    "import re\n",
    "\n",
    "from DDF_utils import my_ddfInfo"
   ]
  },
  {
   "cell_type": "markdown",
   "metadata": {},
   "source": [
    "#### Metrics\n",
    "\n",
    "The functions here will set up the metrics. This function will be called immediately before running the runall on the bundleDict. It has built-in the search for existing files so calculations are only ran once. "
   ]
  },
  {
   "cell_type": "code",
   "execution_count": null,
   "metadata": {},
   "outputs": [],
   "source": [
    "sys.path.append(\"../uband_depth/\")\n",
    "from ExgalM5_with_cuts_AGN import ExgalM5_with_cuts_AGN"
   ]
  },
  {
   "cell_type": "code",
   "execution_count": null,
   "metadata": {},
   "outputs": [],
   "source": [
    "#Use the same slicer for all. \n",
    "NSIDE = 64\n",
    "my_slicer = slicers.HealpixSlicer(nside=NSIDE, useCache=False)"
   ]
  },
  {
   "cell_type": "code",
   "execution_count": null,
   "metadata": {},
   "outputs": [],
   "source": [
    "#Function to construct the metric bundles for a given OpSim, DDF and filter.\n",
    "def get_mb(filters, DDF_names, opsdb, slicer, run, metricDataPath):     \n",
    "    \n",
    "    EM5 = list()\n",
    "    bundleDict = dict()\n",
    "    \n",
    "    for filter in filters:\n",
    "        for DDF_name in DDF_names:\n",
    "            \n",
    "            metricName = 'ExgalM5_with_cuts_AGN_{0}_{1}'.format(DDF_name, filter)\n",
    "            metric = ExgalM5_with_cuts_AGN(lsstFilter=filter,\n",
    "                                   metricName=metricName)\n",
    "           \n",
    "            constraint = 'filter = \"{}\"'.format(filter)\n",
    "            constraintName = '{}'.format(filter)\n",
    "        \n",
    "            if DDF_name == 'AllDDFs':\n",
    "                constraint += ' and proposalId > 1'\n",
    "                constraintName += \"_and_proposalId_gt_1\"\n",
    "            else:\n",
    "                propids = my_ddfInfo(opsdb, DDF_name)['proposalId']\n",
    "                if propids is None:\n",
    "                    continue\n",
    "                constraint += ' and ('\n",
    "                constraintName += \"_and_\"\n",
    "                for i, propid in enumerate(propids):\n",
    "                    if i>0:\n",
    "                        constraint += ' or '\n",
    "                        constraintName += \"_or_\"\n",
    "                    constraint += 'proposalId = {}'.format(propid)\n",
    "                    constraintName += \"proposalId_{}\".format(propid)\n",
    "                constraint += ')'\n",
    "                \n",
    "            #Check if this metric has already been run.\n",
    "            runName = re.sub(\"\\.\",\"_\",run)\n",
    "            fname = \"{0}/{1}_{2}_{3}_HEAL.npz\".format(metricDataPath, \n",
    "                                                      runName, metricName, \n",
    "                                                      constraintName)\n",
    "            if os.path.exists(fname):\n",
    "                continue\n",
    "            \n",
    "            EM5.append(metricBundles.MetricBundle(metric, slicer, constraint))\n",
    "            bundleDict['EM5_{0}_{1}'.format(DDF_name, filter)] = EM5[-1]\n",
    "    \n",
    "    return EM5, bundleDict"
   ]
  },
  {
   "cell_type": "markdown",
   "metadata": {},
   "source": [
    "#### Filters and DDF fields\n",
    "\n",
    "Set here the filters to use and the DDF fields on which to run the metric."
   ]
  },
  {
   "cell_type": "code",
   "execution_count": null,
   "metadata": {},
   "outputs": [],
   "source": [
    "DDF_names = ['AllDDFs', 'ECDFS', 'COSMOS', 'XMM-LSS', 'ELAISS1', 'EDFS']\n",
    "filters = ['u','g']"
   ]
  },
  {
   "cell_type": "markdown",
   "metadata": {},
   "source": [
    "#### Set up folders"
   ]
  },
  {
   "cell_type": "code",
   "execution_count": null,
   "metadata": {},
   "outputs": [],
   "source": [
    "your_username = \"rjassef\"\n",
    "folder_mafoutput = \"DDFs_EM5_depths_{0:d}\".format(NSIDE)\n",
    "\n",
    "metricDataPath = '/home/idies/workspace/Storage/{0}/persistent/MAFOutput/{1}/MetricData/'.format(\n",
    "    your_username, folder_mafoutput)\n",
    "\n",
    "resultDbPath  = '/home/idies/workspace/Storage/{0}/persistent/MAFOutput/{1}'.format(\n",
    "    your_username, folder_mafoutput)\n",
    "\n",
    "outDir = '/home/idies/workspace/Storage/{0}/persistent/MAFOutput/{1}'.format(your_username,folder_mafoutput)\n",
    "\n",
    "if not os.path.exists(os.path.abspath(outDir)):\n",
    "    os.mkdir(os.path.abspath(outDir))"
   ]
  },
  {
   "cell_type": "markdown",
   "metadata": {},
   "source": [
    "#### Run function"
   ]
  },
  {
   "cell_type": "code",
   "execution_count": null,
   "metadata": {},
   "outputs": [],
   "source": [
    "#Function that runs all the metrics for all the OpSim, keeping track of the specific DDFs. \n",
    "def run_calcs(FBS_version, slicer, metricDataPath, filters, DDF_names):\n",
    "    \n",
    "    #OpSims folder. \n",
    "    dbDir = '/home/idies/workspace/lsst_cadence/FBS_{}/'.format(FBS_version)\n",
    "    opSimDbs, resultDbs = connect_dbs(dbDir, outDir)\n",
    "   \n",
    "    #For each run, get all calculations.\n",
    "    dbRuns = show_opsims(dbDir)\n",
    "    for run in dbRuns[:1]:     \n",
    "        \n",
    "        print(\"Processing run \",run)\n",
    "        \n",
    "        #If OpSim run has no DDFs, then skip it. \n",
    "        if len(opSimDbs[run].fetchPropInfo()[1]['DD']) == 0:\n",
    "            print(\"No DDFs in this run. Skipping to the next one.\")\n",
    "            continue\n",
    "\n",
    "        #Set up the metric bundles for this run.\n",
    "        EM5, bundleDict = get_mb(filters, DDF_names, opSimDbs[run], \n",
    "                                 slicer, run, metricDataPath)\n",
    "        if len(EM5)==0:\n",
    "            continue\n",
    "            \n",
    "        for EM5x in EM5:\n",
    "            EM5x.setRunName(run)\n",
    "        metricGroup = metricBundles.MetricBundleGroup(bundleDict,\\\n",
    "                        opSimDbs[run], metricDataPath, resultDbs[run])\n",
    "        metricGroup.runAll()"
   ]
  },
  {
   "cell_type": "markdown",
   "metadata": {},
   "source": [
    "#### Run for FBS 1.5"
   ]
  },
  {
   "cell_type": "code",
   "execution_count": null,
   "metadata": {},
   "outputs": [],
   "source": [
    "run_calcs(\"1.5\", my_slicer, metricDataPath, filters, DDF_names)"
   ]
  },
  {
   "cell_type": "markdown",
   "metadata": {},
   "source": [
    "#### Run for FBS 1.6"
   ]
  },
  {
   "cell_type": "code",
   "execution_count": null,
   "metadata": {},
   "outputs": [],
   "source": [
    "run_calcs(\"1.6\", my_slicer, metricDataPath, filters, DDF_names)"
   ]
  },
  {
   "cell_type": "markdown",
   "metadata": {},
   "source": [
    "#### Run for FBS 1.7"
   ]
  },
  {
   "cell_type": "code",
   "execution_count": null,
   "metadata": {},
   "outputs": [],
   "source": [
    "run_calcs(\"1.7\", my_slicer, metricDataPath, filters, DDF_names)"
   ]
  },
  {
   "cell_type": "code",
   "execution_count": null,
   "metadata": {},
   "outputs": [],
   "source": []
  }
 ],
 "metadata": {
  "kernelspec": {
   "display_name": "Python 3",
   "language": "python",
   "name": "python3"
  },
  "language_info": {
   "codemirror_mode": {
    "name": "ipython",
    "version": 3
   },
   "file_extension": ".py",
   "mimetype": "text/x-python",
   "name": "python",
   "nbconvert_exporter": "python",
   "pygments_lexer": "ipython3",
   "version": "3.7.8"
  }
 },
 "nbformat": 4,
 "nbformat_minor": 4
}
