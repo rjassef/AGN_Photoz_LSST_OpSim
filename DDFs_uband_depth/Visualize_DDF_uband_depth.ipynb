{
 "cells": [
  {
   "cell_type": "code",
   "execution_count": null,
   "metadata": {},
   "outputs": [],
   "source": [
    "%load_ext autoreload\n",
    "%autoreload 2"
   ]
  },
  {
   "cell_type": "code",
   "execution_count": null,
   "metadata": {},
   "outputs": [],
   "source": [
    "# import matplotlib to show plots inline.\n",
    "%matplotlib inline\n",
    "import matplotlib.pyplot as plt\n",
    "import pandas as pd\n",
    "import numpy as np\n",
    "import glob\n",
    "import os\n",
    "\n",
    "import astropy.units as u\n",
    "import matplotlib as mpl\n",
    "import sys \n",
    "sys.path.append(\"..\")\n",
    "from plot_OpSims import plot_OpSims_hist"
   ]
  },
  {
   "cell_type": "code",
   "execution_count": null,
   "metadata": {},
   "outputs": [],
   "source": [
    "# import maf python modules\n",
    "import lsst.sims.maf.db as db\n",
    "import lsst.sims.maf.metrics as metrics\n",
    "import lsst.sims.maf.slicers as slicers\n",
    "import lsst.sims.maf.stackers as stackers\n",
    "import lsst.sims.maf.plots as plots\n",
    "import lsst.sims.maf.metricBundles as metricBundles"
   ]
  },
  {
   "cell_type": "code",
   "execution_count": null,
   "metadata": {},
   "outputs": [],
   "source": [
    "# import convenience functions\n",
    "import sys \n",
    "sys.path.append(\"../../LSST_OpSim\")\n",
    "from Scripts_NBs.opsimUtils import *"
   ]
  },
  {
   "cell_type": "markdown",
   "metadata": {},
   "source": [
    "## Load the results\n",
    "We first load the results of the run into memory."
   ]
  },
  {
   "cell_type": "code",
   "execution_count": null,
   "metadata": {},
   "outputs": [],
   "source": [
    "NSIDE = 64\n",
    "your_username = \"rjassef\"\n",
    "folder_mafoutput = \"DDFs_EM5_depths_{0:d}\".format(NSIDE)\n",
    "resultDbPath = '/home/idies/workspace/Storage/{0}/persistent/MAFOutput/{1}'.format(\n",
    "    your_username, folder_mafoutput)\n",
    "metricDataPath = '/home/idies/workspace/Storage/{0}/persistent/MAFOutput/{1}/MetricData/'.format(\n",
    "    your_username, folder_mafoutput)"
   ]
  },
  {
   "cell_type": "code",
   "execution_count": null,
   "metadata": {},
   "outputs": [],
   "source": [
    "# get a dictionary of resultDb from given directory\n",
    "resultDbs = getResultsDbs(resultDbPath)"
   ]
  },
  {
   "cell_type": "code",
   "execution_count": null,
   "metadata": {},
   "outputs": [],
   "source": [
    "#Read the list of current OpSims to be used for the analysis. \n",
    "Current_OpSims = np.genfromtxt(\"../Run_Info/Current_list_of_OpSims.txt\", dtype='U')"
   ]
  },
  {
   "cell_type": "code",
   "execution_count": null,
   "metadata": {},
   "outputs": [],
   "source": [
    "#Find if any current OpSims are missing from the runs. \n",
    "print(np.setdiff1d(Current_OpSims, list(resultDbs.keys())))"
   ]
  },
  {
   "cell_type": "code",
   "execution_count": null,
   "metadata": {},
   "outputs": [],
   "source": [
    "# retrieve metricBundles for each opsim run and store them in a dictionary\n",
    "bundleDicts_raw = dict()\n",
    "for runName in resultDbs:\n",
    "    if runName in Current_OpSims:\n",
    "        bundleDicts_raw[runName] = bundleDictFromDisk(resultDbs[runName], runName, metricDataPath)"
   ]
  },
  {
   "cell_type": "code",
   "execution_count": null,
   "metadata": {},
   "outputs": [],
   "source": [
    "dbRuns = list(bundleDicts_raw.keys())\n",
    "print(bundleDicts_raw[dbRuns[0]].keys())\n",
    "#print(bundleDicts_raw[dbRuns[1]].keys())"
   ]
  },
  {
   "cell_type": "code",
   "execution_count": null,
   "metadata": {},
   "outputs": [],
   "source": [
    "#Make sure that the plots folder exists.\n",
    "plots_folder = \"plots_current_opsims_{0:d}\".format(NSIDE)\n",
    "if not os.path.exists(plots_folder):\n",
    "    os.mkdir(plots_folder)"
   ]
  },
  {
   "cell_type": "markdown",
   "metadata": {},
   "source": [
    "### Function to pull out a specific DDF from the bundleDicts "
   ]
  },
  {
   "cell_type": "code",
   "execution_count": null,
   "metadata": {},
   "outputs": [],
   "source": [
    "def get_bundleDicts_use(filter, DDF_name, bundleDicts_raw):\n",
    "    bundleDicts_use = dict()\n",
    "    metricName = 'ExgalM5_with_cuts_AGN_{0}_{1}'.format(DDF_name, filter)\n",
    "    Key = (1, metricName)\n",
    "    for run in dbRuns:\n",
    "        for raw_key in bundleDicts_raw[run].keys():\n",
    "            if raw_key[1]==metricName:\n",
    "                #mask = bundleDicts_raw[run][raw_key].metricValues.mask\n",
    "                #data = bundleDicts_raw[run][raw_key].metricValues.data[~mask]\n",
    "                #data = data[~(np.isnan(data) | np.isinf(data))]\n",
    "                bundleDicts_use[run] = dict()\n",
    "                bundleDicts_use[run][Key] = bundleDicts_raw[run][raw_key]\n",
    "                break\n",
    "    return Key, bundleDicts_use"
   ]
  },
  {
   "cell_type": "markdown",
   "metadata": {},
   "source": [
    "### u-band 3 sigma "
   ]
  },
  {
   "cell_type": "code",
   "execution_count": null,
   "metadata": {},
   "outputs": [],
   "source": [
    "def mlim_3sigma(mlim_5sigma):\n",
    "    return mlim_5sigma + 2.5*np.log10(5./3.)"
   ]
  },
  {
   "cell_type": "code",
   "execution_count": null,
   "metadata": {},
   "outputs": [],
   "source": [
    "filter = \"u\"\n",
    "#DDF = \"AllDDFs\"\n",
    "DDFs = ['AllDDFs', 'ECDFS', 'COSMOS', 'XMM-LSS', 'ELAISS1', 'EDFS']\n",
    "\n",
    "for DDF in DDFs:\n",
    "\n",
    "    #Create the bundleDict appropriate for this DDF.\n",
    "    Key = tuple()\n",
    "    bundleDicts_use = dict()\n",
    "    Key, bundleDicts_use = get_bundleDicts_use(filter, DDF, bundleDicts_raw)\n",
    "\n",
    "    #Set here the useful parameters for the plot.\n",
    "    data_func = mlim_3sigma\n",
    "    xlabel = r\"u-band 3$\\sigma$ depth (mag)\"\n",
    "    title = DDF\n",
    "    healpix_pixarea = bundleDicts_use[dbRuns[0]][Key].slicer.pixArea * u.sr\n",
    "\n",
    "    #Make the plot\n",
    "    plot_OpSims_hist(Key, bundleDicts_use, data_func=data_func, figsize=(10,11), \n",
    "                     healpix_pixarea=healpix_pixarea, datamin=None, datamax=None, \n",
    "                     color_map=[mpl.cm.summer,mpl.cm.cool], xlabel=xlabel, title=title)\n",
    "\n",
    "    #Save the plot.\n",
    "    fname = \"{0}/uband_3sigma_depth_{1}.png\".format(plots_folder,DDF)\n",
    "    plt.savefig(fname, dpi=200, bbox_inches='tight')"
   ]
  },
  {
   "cell_type": "markdown",
   "metadata": {},
   "source": [
    "### g-band 5 sigma"
   ]
  },
  {
   "cell_type": "code",
   "execution_count": null,
   "metadata": {},
   "outputs": [],
   "source": [
    "filter = \"g\"\n",
    "#DDF = \"AllDDFs\"\n",
    "DDFs = ['AllDDFs', 'ECDFS', 'COSMOS', 'XMM-LSS', 'ELAISS1', 'EDFS']\n",
    "\n",
    "for DDF in DDFs:\n",
    "\n",
    "    #Create the bundleDict appropriate for this DDF.\n",
    "    Key = tuple()\n",
    "    bundleDicts_use = dict()\n",
    "    Key, bundleDicts_use = get_bundleDicts_use(filter, DDF, bundleDicts_raw)\n",
    "\n",
    "    #Set here the useful parameters for the plot.\n",
    "    data_func = None\n",
    "    xlabel = r\"g-band 5$\\sigma$ depth (mag)\"\n",
    "    title = DDF\n",
    "    healpix_pixarea = bundleDicts_use[dbRuns[0]][Key].slicer.pixArea * u.sr\n",
    "\n",
    "    #Make the plot\n",
    "    plot_OpSims_hist(Key, bundleDicts_use, data_func=data_func, figsize=(10,11), \n",
    "                     healpix_pixarea=healpix_pixarea, datamin=None, datamax=None, \n",
    "                     color_map=[mpl.cm.summer,mpl.cm.cool], xlabel=xlabel, title=title)\n",
    "\n",
    "    #Save the plot.\n",
    "    fname = \"{0}/gband_3sigma_depth_{1}.png\".format(plots_folder,DDF)\n",
    "    plt.savefig(fname, dpi=200, bbox_inches='tight')"
   ]
  },
  {
   "cell_type": "markdown",
   "metadata": {},
   "source": [
    "## Plot as a fuction of L* at z=2.5"
   ]
  },
  {
   "cell_type": "code",
   "execution_count": null,
   "metadata": {},
   "outputs": [],
   "source": [
    "#vanden Berk et al. (2001)\n",
    "data = np.loadtxt(\"../mstar_estimates/mstar_z.vandenberk.dat\")\n",
    "\n",
    "#Assef et al. (2010)\n",
    "#data = np.loadtxt(\"../mstar_estimates/mstar_z.lrt.dat\")\n",
    "\n",
    "mstar = dict()\n",
    "filters = ['u','g','r','i','z','y']\n",
    "for k, filter in enumerate(filters):\n",
    "    mstar[filter] = np.interp([2.5], data[:,0], data[:,k+1])[0]\n",
    "    print(\"{0:s} {1:7.3f}\".format(filter, mstar[filter]))"
   ]
  },
  {
   "cell_type": "markdown",
   "metadata": {},
   "source": [
    "### u-band 3-sigma"
   ]
  },
  {
   "cell_type": "code",
   "execution_count": null,
   "metadata": {},
   "outputs": [],
   "source": [
    "def log_QLF_Lstar_frac_u(mlim_5sigma):\n",
    "    #First, transform to 3 sigma\n",
    "    mlim_3sigma = mlim_5sigma + 2.5*np.log10(5./3.)\n",
    "    #Now, transform to Lstar fraction.\n",
    "    return -0.4*(mlim_3sigma - mstar['u'])"
   ]
  },
  {
   "cell_type": "code",
   "execution_count": null,
   "metadata": {},
   "outputs": [],
   "source": [
    "filter = \"u\"\n",
    "#DDF = \"AllDDFs\"\n",
    "DDFs = ['AllDDFs', 'ECDFS', 'COSMOS', 'XMM-LSS', 'ELAISS1', 'EDFS']\n",
    "\n",
    "for DDF in DDFs:\n",
    "\n",
    "    #Create the bundleDict appropriate for this DDF.\n",
    "    Key = tuple()\n",
    "    bundleDicts_use = dict()\n",
    "    Key, bundleDicts_use = get_bundleDicts_use(filter, DDF, bundleDicts_raw)\n",
    "\n",
    "    #Set here the useful parameters for the plot.\n",
    "    data_func = log_QLF_Lstar_frac_u\n",
    "    xlabel = r\"$\\log L/L_*(z=2.5)$ for u-band 3$\\sigma$ depth\"\n",
    "    title = DDF\n",
    "    healpix_pixarea = bundleDicts_use[dbRuns[0]][Key].slicer.pixArea * u.sr\n",
    "\n",
    "    #Make the plot\n",
    "    plot_OpSims_hist(Key, bundleDicts_use, data_func=data_func, figsize=(10,11), \n",
    "                     healpix_pixarea=healpix_pixarea, datamin=None, datamax=None, \n",
    "                     color_map=[mpl.cm.summer,mpl.cm.cool], xlabel=xlabel, title=title)\n",
    "\n",
    "    #Save the plot.\n",
    "    fname = \"{0}/uband_3sigma_L_Lstar_{1}.png\".format(plots_folder,DDF)\n",
    "    plt.savefig(fname, dpi=200, bbox_inches='tight')"
   ]
  },
  {
   "cell_type": "markdown",
   "metadata": {},
   "source": [
    "### g-band 5-sgima"
   ]
  },
  {
   "cell_type": "code",
   "execution_count": null,
   "metadata": {},
   "outputs": [],
   "source": [
    "def log_QLF_Lstar_frac_g(mlim_5sigma):\n",
    "    return -0.4*(mlim_5sigma - mstar['g'])"
   ]
  },
  {
   "cell_type": "code",
   "execution_count": null,
   "metadata": {},
   "outputs": [],
   "source": [
    "filter = \"g\"\n",
    "#DDF = \"AllDDFs\"\n",
    "DDFs = ['AllDDFs', 'ECDFS', 'COSMOS', 'XMM-LSS', 'ELAISS1', 'EDFS']\n",
    "\n",
    "for DDF in DDFs:\n",
    "\n",
    "    #Create the bundleDict appropriate for this DDF.\n",
    "    Key = tuple()\n",
    "    bundleDicts_use = dict()\n",
    "    Key, bundleDicts_use = get_bundleDicts_use(filter, DDF, bundleDicts_raw)\n",
    "\n",
    "    #Set here the useful parameters for the plot.\n",
    "    data_func = log_QLF_Lstar_frac_g\n",
    "    xlabel = r\"$\\log L/L_*(z=2.5)$ for g-band 5$\\sigma$ depth\"\n",
    "    title = DDF\n",
    "    healpix_pixarea = bundleDicts_use[dbRuns[0]][Key].slicer.pixArea * u.sr\n",
    "\n",
    "    #Make the plot\n",
    "    plot_OpSims_hist(Key, bundleDicts_use, data_func=data_func, figsize=(10,11), \n",
    "                     healpix_pixarea=healpix_pixarea, datamin=None, datamax=None, \n",
    "                     color_map=[mpl.cm.summer,mpl.cm.cool], xlabel=xlabel, title=title)\n",
    "\n",
    "    #Save the plot.\n",
    "    fname = \"{0}/gband_3sigma_L_Lstar_{1}.png\".format(plots_folder,DDF)\n",
    "    plt.savefig(fname, dpi=200, bbox_inches='tight')"
   ]
  }
 ],
 "metadata": {
  "kernelspec": {
   "display_name": "Python 3",
   "language": "python",
   "name": "python3"
  },
  "language_info": {
   "codemirror_mode": {
    "name": "ipython",
    "version": 3
   },
   "file_extension": ".py",
   "mimetype": "text/x-python",
   "name": "python",
   "nbconvert_exporter": "python",
   "pygments_lexer": "ipython3",
   "version": "3.7.8"
  }
 },
 "nbformat": 4,
 "nbformat_minor": 4
}
